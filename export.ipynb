{
 "cells": [
  {
   "cell_type": "code",
   "execution_count": 1,
   "metadata": {},
   "outputs": [
    {
     "name": "stderr",
     "output_type": "stream",
     "text": [
      "[nltk_data] Downloading package reuters to\n",
      "[nltk_data]     C:\\Users\\salem\\AppData\\Roaming\\nltk_data...\n",
      "[nltk_data]   Package reuters is already up-to-date!\n",
      "[nltk_data] Downloading package punkt to\n",
      "[nltk_data]     C:\\Users\\salem\\AppData\\Roaming\\nltk_data...\n",
      "[nltk_data]   Package punkt is already up-to-date!\n"
     ]
    },
    {
     "name": "stdout",
     "output_type": "stream",
     "text": [
      "Number of documents: 10788\n",
      "Saved document embeddings with shape: (10788, 100)\n",
      "Saved 10788 documents to documents.txt\n",
      "Saved vectorizer model\n"
     ]
    }
   ],
   "source": [
    "import nltk\n",
    "from nltk.corpus import reuters\n",
    "import numpy as np\n",
    "from sklearn.feature_extraction.text import TfidfVectorizer\n",
    "from joblib import dump\n",
    "nltk.download('reuters')\n",
    "nltk.download('punkt')\n",
    "\n",
    "# Step 1: Load and process the Reuters Corpus\n",
    "documents = []\n",
    "for fileid in reuters.fileids():\n",
    "    raw_text = reuters.raw(fileid)\n",
    "    documents.append(raw_text)\n",
    "\n",
    "print(f\"Number of documents: {len(documents)}\")\n",
    "\n",
    "# Step 2: Create document embeddings using TF-IDF\n",
    "vectorizer = TfidfVectorizer(max_features=100)  # Using 100 features\n",
    "document_embeddings = vectorizer.fit_transform(documents).toarray()\n",
    "\n",
    "np.save('document_embeddings.npy', document_embeddings)\n",
    "print(f\"Saved document embeddings with shape: {document_embeddings.shape}\")\n",
    "\n",
    "with open('documents.txt', 'w', encoding='utf-8') as f:\n",
    "    for doc in documents:\n",
    "        f.write(doc + \"\\n===DOCUMENT_SEPARATOR===\\n\")\n",
    "print(f\"Saved {len(documents)} documents to documents.txt\")\n",
    "\n",
    "\n",
    "\n",
    "dump(vectorizer, 'vectorizer.joblib')\n",
    "print(\"Saved vectorizer model\")"
   ]
  }
 ],
 "metadata": {
  "kernelspec": {
   "display_name": "selected_topics",
   "language": "python",
   "name": "python3"
  },
  "language_info": {
   "codemirror_mode": {
    "name": "ipython",
    "version": 3
   },
   "file_extension": ".py",
   "mimetype": "text/x-python",
   "name": "python",
   "nbconvert_exporter": "python",
   "pygments_lexer": "ipython3",
   "version": "3.9.21"
  }
 },
 "nbformat": 4,
 "nbformat_minor": 2
}
